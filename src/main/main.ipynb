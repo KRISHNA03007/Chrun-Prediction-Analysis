{
 "cells": [
  {
   "cell_type": "code",
   "execution_count": 1,
   "id": "29a419fc",
   "metadata": {},
   "outputs": [],
   "source": [
    "import sys, os\n",
    "# go 2 levels up from current folder (data_preprocess → src → project root)\n",
    "project_root = os.path.abspath(os.path.join(os.getcwd(), \"..\", \"..\"))\n",
    "sys.path.append(project_root)\n",
    "\n",
    "import pandas as pd\n",
    "from src.data_ingestion.data_loader import load_data"
   ]
  },
  {
   "cell_type": "markdown",
   "id": "f46fc2f9",
   "metadata": {},
   "source": [
    "## Data Preprocessing"
   ]
  },
  {
   "cell_type": "markdown",
   "id": "836ded1f",
   "metadata": {},
   "source": [
    "### Data Cleaning"
   ]
  },
  {
   "cell_type": "code",
   "execution_count": 2,
   "id": "c657e1b3",
   "metadata": {},
   "outputs": [
    {
     "name": "stdout",
     "output_type": "stream",
     "text": [
      "Successfully loaded: c:\\Users\\krish\\Desktop\\Churn Analysis\\data\\raw\\Churn_Modelling.csv\n"
     ]
    }
   ],
   "source": [
    "data = load_data(\"Churn_Modelling.csv\")"
   ]
  },
  {
   "cell_type": "code",
   "execution_count": 3,
   "id": "4bf1bda9",
   "metadata": {},
   "outputs": [
    {
     "name": "stdout",
     "output_type": "stream",
     "text": [
      "Original Dataset size\n",
      "----------------\n",
      "(10002, 14)\n",
      "Duplicate Dataset size\n",
      "----------------\n",
      "(10002, 14)\n"
     ]
    }
   ],
   "source": [
    "# creating a copy of original dataset for backup\n",
    "df = data.copy()\n",
    "print(\"Original Dataset size\")\n",
    "print(\"----------------\")\n",
    "print(data.shape)\n",
    "print(\"Duplicate Dataset size\")\n",
    "print(\"----------------\")\n",
    "print(df.shape)"
   ]
  },
  {
   "cell_type": "code",
   "execution_count": 4,
   "id": "66553ab7",
   "metadata": {},
   "outputs": [
    {
     "name": "stdout",
     "output_type": "stream",
     "text": [
      "Index(['RowNumber', 'CreditScore', 'Geography', 'Gender', 'Age', 'Tenure',\n",
      "       'Balance', 'NumOfProducts', 'HasCrCard', 'IsActiveMember',\n",
      "       'EstimatedSalary', 'Exited'],\n",
      "      dtype='object')\n",
      "(10002, 12)\n"
     ]
    }
   ],
   "source": [
    "# Removing useless columns\n",
    "\n",
    "def drop_useless_cols(df, cols_to_drop=['CustomerId', 'Surname']):\n",
    "    df = df.drop(columns=[col for col in cols_to_drop if col in df.columns])\n",
    "    return df\n",
    "\n",
    "df = drop_useless_cols(df)\n",
    "print(df.columns)\n",
    "print(df.shape)"
   ]
  },
  {
   "cell_type": "code",
   "execution_count": 5,
   "id": "f1706434",
   "metadata": {},
   "outputs": [
    {
     "name": "stdout",
     "output_type": "stream",
     "text": [
      "no.of missing values: 4\n",
      "after hadling: 0\n"
     ]
    }
   ],
   "source": [
    "# Handling missing values\n",
    "\n",
    "print(\"no.of missing values:\",df.isnull().sum().sum())\n",
    "def fill_missing_values(df):\n",
    "    # Fill Age with mean\n",
    "    if 'Age' in df.columns:\n",
    "        df['Age'] = df['Age'].fillna(df['Age'].mean())\n",
    "    \n",
    "    # Columns to fill with mode\n",
    "    cols_mode = ['Geography', 'HasCrCard', 'IsActiveMember']\n",
    "    for col in cols_mode:\n",
    "        if col in df.columns:\n",
    "            df[col] = df[col].fillna(df[col].mode()[0])\n",
    "    \n",
    "    return df\n",
    "df = fill_missing_values(df)\n",
    "print(\"after hadling:\",df.isnull().sum().sum())\n"
   ]
  },
  {
   "cell_type": "code",
   "execution_count": 6,
   "id": "7ef200ee",
   "metadata": {},
   "outputs": [
    {
     "name": "stdout",
     "output_type": "stream",
     "text": [
      "No. of duplicates: 2\n",
      "After deleting duplicates: 0\n"
     ]
    }
   ],
   "source": [
    "# Handling Duplicates\n",
    "\n",
    "def remove_duplicates(df):\n",
    "    print(\"No. of duplicates:\", df.duplicated().sum())\n",
    "    df = df.drop_duplicates()\n",
    "    print(\"After deleting duplicates:\", df.duplicated().sum())\n",
    "    return df\n",
    "df = remove_duplicates(df)"
   ]
  },
  {
   "cell_type": "code",
   "execution_count": 7,
   "id": "fc17d51c",
   "metadata": {},
   "outputs": [
    {
     "name": "stdout",
     "output_type": "stream",
     "text": [
      "RowNumber           int64\n",
      "CreditScore         int64\n",
      "Geography          object\n",
      "Gender             object\n",
      "Age                 int64\n",
      "Tenure              int64\n",
      "Balance             int64\n",
      "NumOfProducts       int64\n",
      "HasCrCard           int64\n",
      "IsActiveMember      int64\n",
      "EstimatedSalary     int64\n",
      "Exited              int64\n",
      "dtype: object\n"
     ]
    }
   ],
   "source": [
    "# convert float dtype columns into int64 \n",
    "\n",
    "def convert_float_to_int(df):\n",
    "    float_cols = df.select_dtypes(include='float').columns\n",
    "    for col in float_cols:\n",
    "        df[col] = df[col].astype('int64')\n",
    "    return df\n",
    "df = convert_float_to_int(df)\n",
    "print(df.dtypes)"
   ]
  },
  {
   "cell_type": "markdown",
   "id": "f7fc5a50",
   "metadata": {},
   "source": [
    "### Feature Engineering"
   ]
  },
  {
   "cell_type": "code",
   "execution_count": null,
   "id": "6534661f",
   "metadata": {},
   "outputs": [],
   "source": [
    "from sklearn.preprocessing import LabelEncoder\n",
    "\n",
    "def label_encode_columns(df, columns=['Geography', 'Gender']):\n",
    "    le = LabelEncoder()\n",
    "    for col in columns:\n",
    "        if col in df.columns:\n",
    "            df[col] = le.fit_transform(df[col])\n",
    "    return df\n",
    "df = label_encode_columns(df)"
   ]
  },
  {
   "cell_type": "code",
   "execution_count": 18,
   "id": "27023f13",
   "metadata": {},
   "outputs": [],
   "source": [
    "# Feature Sclaing\n",
    "\n",
    "from sklearn.preprocessing import StandardScaler\n",
    "\n",
    "def scale_features(df, columns=None):\n",
    "    scaler = StandardScaler()\n",
    "    if columns is None:\n",
    "        columns = df.select_dtypes(include='int64').columns\n",
    "    df[columns] = scaler.fit_transform(df[columns])\n",
    "    return df\n",
    "df = scale_features(df)"
   ]
  },
  {
   "cell_type": "markdown",
   "id": "8788699c",
   "metadata": {},
   "source": [
    "## Model Building"
   ]
  },
  {
   "cell_type": "markdown",
   "id": "e862f07f",
   "metadata": {},
   "source": [
    "### Data Splitting"
   ]
  },
  {
   "cell_type": "code",
   "execution_count": 20,
   "id": "8acc293e",
   "metadata": {},
   "outputs": [
    {
     "name": "stdout",
     "output_type": "stream",
     "text": [
      "(8000, 11) (2000, 11) (8000,) (2000,)\n"
     ]
    }
   ],
   "source": [
    "from sklearn.model_selection import train_test_split\n",
    "\n",
    "def split_data(df, target_col='Exited', test_size=0.2, random_state=42):\n",
    "    X = df.drop(columns=[target_col])\n",
    "    y = df[target_col]\n",
    "    X_train, X_test, y_train, y_test = train_test_split(\n",
    "        X, y, test_size=test_size, random_state=random_state, stratify=y\n",
    "    )\n",
    "    return X_train, X_test, y_train, y_test\n",
    "X_train, X_test, y_train, y_test = split_data(df, target_col='Exited')\n",
    "print(X_train.shape, X_test.shape, y_train.shape, y_test.shape)\n"
   ]
  },
  {
   "cell_type": "code",
   "execution_count": null,
   "id": "239a11c1",
   "metadata": {},
   "outputs": [],
   "source": []
  }
 ],
 "metadata": {
  "kernelspec": {
   "display_name": "venv",
   "language": "python",
   "name": "python3"
  },
  "language_info": {
   "codemirror_mode": {
    "name": "ipython",
    "version": 3
   },
   "file_extension": ".py",
   "mimetype": "text/x-python",
   "name": "python",
   "nbconvert_exporter": "python",
   "pygments_lexer": "ipython3",
   "version": "3.10.11"
  }
 },
 "nbformat": 4,
 "nbformat_minor": 5
}
