{
 "cells": [
  {
   "cell_type": "code",
   "execution_count": 89,
   "id": "29a419fc",
   "metadata": {},
   "outputs": [],
   "source": [
    "import sys, os\n",
    "# go 2 levels up from current folder (data_preprocess → src → project root)\n",
    "project_root = os.path.abspath(os.path.join(os.getcwd(), \"..\", \"..\"))\n",
    "sys.path.append(project_root)\n",
    "\n",
    "import pandas as pd\n",
    "from src.data_ingestion.data_loader import load_data"
   ]
  },
  {
   "cell_type": "markdown",
   "id": "f46fc2f9",
   "metadata": {},
   "source": [
    "## Data Preprocessing"
   ]
  },
  {
   "cell_type": "markdown",
   "id": "836ded1f",
   "metadata": {},
   "source": [
    "### Data Cleaning"
   ]
  },
  {
   "cell_type": "code",
   "execution_count": 90,
   "id": "c657e1b3",
   "metadata": {},
   "outputs": [
    {
     "name": "stdout",
     "output_type": "stream",
     "text": [
      "Successfully loaded: c:\\Users\\krish\\Desktop\\Churn Analysis\\data\\raw\\Churn_Modelling.csv\n"
     ]
    }
   ],
   "source": [
    "data = load_data(\"Churn_Modelling.csv\")"
   ]
  },
  {
   "cell_type": "code",
   "execution_count": 91,
   "id": "4bf1bda9",
   "metadata": {},
   "outputs": [
    {
     "name": "stdout",
     "output_type": "stream",
     "text": [
      "Original Dataset size\n",
      "----------------\n",
      "(10002, 14)\n",
      "Duplicate Dataset size\n",
      "----------------\n",
      "(10002, 14)\n"
     ]
    }
   ],
   "source": [
    "# creating a copy of original dataset for backup\n",
    "df = data.copy()\n",
    "print(\"Original Dataset size\")\n",
    "print(\"----------------\")\n",
    "print(data.shape)\n",
    "print(\"Duplicate Dataset size\")\n",
    "print(\"----------------\")\n",
    "print(df.shape)"
   ]
  },
  {
   "cell_type": "code",
   "execution_count": 92,
   "id": "66553ab7",
   "metadata": {},
   "outputs": [
    {
     "name": "stdout",
     "output_type": "stream",
     "text": [
      "Index(['RowNumber', 'CreditScore', 'Geography', 'Gender', 'Age', 'Tenure',\n",
      "       'Balance', 'NumOfProducts', 'HasCrCard', 'IsActiveMember',\n",
      "       'EstimatedSalary', 'Exited'],\n",
      "      dtype='object')\n",
      "(10002, 12)\n"
     ]
    }
   ],
   "source": [
    "# Removing useless columns\n",
    "\n",
    "def drop_useless_cols(df, cols_to_drop=['CustomerId', 'Surname']):\n",
    "    df = df.drop(columns=[col for col in cols_to_drop if col in df.columns])\n",
    "    return df\n",
    "\n",
    "df = drop_useless_cols(df)\n",
    "print(df.columns)\n",
    "print(df.shape)"
   ]
  },
  {
   "cell_type": "code",
   "execution_count": 93,
   "id": "f1706434",
   "metadata": {},
   "outputs": [
    {
     "name": "stdout",
     "output_type": "stream",
     "text": [
      "no.of missing values: 4\n",
      "after hadling: 0\n"
     ]
    }
   ],
   "source": [
    "# Handling missing values\n",
    "\n",
    "print(\"no.of missing values:\",df.isnull().sum().sum())\n",
    "def fill_missing_values(df):\n",
    "    # Fill Age with mean\n",
    "    if 'Age' in df.columns:\n",
    "        df['Age'] = df['Age'].fillna(df['Age'].mean())\n",
    "    \n",
    "    # Columns to fill with mode\n",
    "    cols_mode = ['Geography', 'HasCrCard', 'IsActiveMember']\n",
    "    for col in cols_mode:\n",
    "        if col in df.columns:\n",
    "            df[col] = df[col].fillna(df[col].mode()[0])\n",
    "    \n",
    "    return df\n",
    "df = fill_missing_values(df)\n",
    "print(\"after hadling:\",df.isnull().sum().sum())\n"
   ]
  },
  {
   "cell_type": "code",
   "execution_count": 94,
   "id": "7ef200ee",
   "metadata": {},
   "outputs": [
    {
     "name": "stdout",
     "output_type": "stream",
     "text": [
      "No. of duplicates: 2\n",
      "After deleting duplicates: 0\n"
     ]
    }
   ],
   "source": [
    "# Handling Duplicates\n",
    "\n",
    "def remove_duplicates(df):\n",
    "    print(\"No. of duplicates:\", df.duplicated().sum())\n",
    "    df = df.drop_duplicates()\n",
    "    print(\"After deleting duplicates:\", df.duplicated().sum())\n",
    "    return df\n",
    "df = remove_duplicates(df)"
   ]
  },
  {
   "cell_type": "markdown",
   "id": "f7fc5a50",
   "metadata": {},
   "source": [
    "### Feature Engineering"
   ]
  },
  {
   "cell_type": "code",
   "execution_count": 95,
   "id": "6534661f",
   "metadata": {},
   "outputs": [],
   "source": [
    "from sklearn.preprocessing import LabelEncoder\n",
    "\n",
    "def label_encode_columns(df, columns=['Geography', 'Gender']):\n",
    "    le = LabelEncoder()\n",
    "    for col in columns:\n",
    "        if col in df.columns:\n",
    "            df[col] = le.fit_transform(df[col])\n",
    "    return df\n",
    "df = label_encode_columns(df)"
   ]
  },
  {
   "cell_type": "code",
   "execution_count": 96,
   "id": "27023f13",
   "metadata": {},
   "outputs": [],
   "source": [
    "# Feature Sclaing\n",
    "\n",
    "from sklearn.preprocessing import StandardScaler\n",
    "\n",
    "def scale_features(df, columns=None):\n",
    "    scaler = StandardScaler()\n",
    "    if columns is None:\n",
    "        columns = df.select_dtypes(include='int64').columns\n",
    "    df[columns] = scaler.fit_transform(df[columns])\n",
    "    return df\n",
    "df = scale_features(df)"
   ]
  },
  {
   "cell_type": "markdown",
   "id": "8788699c",
   "metadata": {},
   "source": [
    "## Model Building"
   ]
  },
  {
   "cell_type": "markdown",
   "id": "e862f07f",
   "metadata": {},
   "source": [
    "### Data Splitting"
   ]
  },
  {
   "cell_type": "code",
   "execution_count": 97,
   "id": "8acc293e",
   "metadata": {},
   "outputs": [
    {
     "name": "stdout",
     "output_type": "stream",
     "text": [
      "(8000, 11) (2000, 11) (8000,) (2000,)\n"
     ]
    }
   ],
   "source": [
    "from sklearn.model_selection import train_test_split\n",
    "\n",
    "def split_data(df, target_col='Exited', test_size=0.2, random_state=42):\n",
    "    X = df.drop(columns=[target_col])\n",
    "    y = df[target_col]\n",
    "    y = y.astype(int)\n",
    "    X_train, X_test, y_train, y_test = train_test_split(\n",
    "        X, y, test_size=test_size, random_state=random_state, stratify=y\n",
    "    )\n",
    "    return X_train, X_test, y_train, y_test\n",
    "X_train, X_test, y_train, y_test = split_data(df, target_col='Exited')\n",
    "print(X_train.shape, X_test.shape, y_train.shape, y_test.shape)\n"
   ]
  },
  {
   "cell_type": "markdown",
   "id": "d7385d9e",
   "metadata": {},
   "source": [
    "#### Random Forest"
   ]
  },
  {
   "cell_type": "code",
   "execution_count": 98,
   "id": "82a9d0ba",
   "metadata": {},
   "outputs": [
    {
     "name": "stdout",
     "output_type": "stream",
     "text": [
      "Fitting 5 folds for each of 162 candidates, totalling 810 fits\n",
      "Best Parameters: {'max_depth': None, 'max_features': 'sqrt', 'min_samples_leaf': 4, 'min_samples_split': 10, 'n_estimators': 200}\n",
      "\n",
      "Classification Metrics:\n",
      "    Accuracy  Precision    Recall  F1 Score\n",
      "0     0.848   0.639566  0.579853  0.608247\n",
      "\n",
      "Confusion Matrix:\n",
      "           Pred 0  Pred 1\n",
      "Actual 0    1460     133\n",
      "Actual 1     171     236\n",
      "\n",
      "Cross-validation results:\n",
      "                                                params  mean_test_score  \\\n",
      "25  {'max_depth': None, 'max_features': 'sqrt', 'm...         0.612538   \n",
      "52  {'max_depth': None, 'max_features': 'log2', 'm...         0.612538   \n",
      "70  {'max_depth': 10, 'max_features': 'sqrt', 'min...         0.612044   \n",
      "97  {'max_depth': 10, 'max_features': 'log2', 'min...         0.612044   \n",
      "75  {'max_depth': 10, 'max_features': 'sqrt', 'min...         0.611967   \n",
      "\n",
      "    std_test_score  \n",
      "25        0.020558  \n",
      "52        0.020558  \n",
      "70        0.020671  \n",
      "97        0.020671  \n",
      "75        0.018046  \n"
     ]
    }
   ],
   "source": [
    "import pandas as pd\n",
    "from sklearn.ensemble import RandomForestClassifier\n",
    "from sklearn.model_selection import GridSearchCV, train_test_split, StratifiedKFold\n",
    "from sklearn.metrics import accuracy_score, precision_score, recall_score, f1_score, confusion_matrix\n",
    "\n",
    "rf = RandomForestClassifier(random_state=42, class_weight=\"balanced\")\n",
    "\n",
    "param_grid = {\n",
    "    'n_estimators': [100, 200, 300],\n",
    "    'max_depth': [None, 10, 20],\n",
    "    'min_samples_split': [2, 5, 10],\n",
    "    'min_samples_leaf': [1, 2, 4],\n",
    "    'max_features': ['sqrt', 'log2']\n",
    "}\n",
    "\n",
    "cv = StratifiedKFold(n_splits=5, shuffle=True, random_state=42)\n",
    "\n",
    "grid_search = GridSearchCV(\n",
    "    estimator=rf,\n",
    "    param_grid=param_grid,\n",
    "    cv=cv,\n",
    "    scoring='f1',\n",
    "    n_jobs=-1,\n",
    "    verbose=1\n",
    ")\n",
    "\n",
    "grid_search.fit(X_train, y_train)\n",
    "\n",
    "best_params = grid_search.best_params_\n",
    "print(\"Best Parameters:\", best_params)\n",
    "\n",
    "best_rf = grid_search.best_estimator_\n",
    "y_pred = best_rf.predict(X_test)\n",
    "\n",
    "metrics = {\n",
    "    'Accuracy': accuracy_score(y_test, y_pred),\n",
    "    'Precision': precision_score(y_test, y_pred),\n",
    "    'Recall': recall_score(y_test, y_pred),\n",
    "    'F1 Score': f1_score(y_test, y_pred)\n",
    "}\n",
    "\n",
    "metrics_df = pd.DataFrame([metrics])\n",
    "print(\"\\nClassification Metrics:\\n\", metrics_df)\n",
    "\n",
    "cm = confusion_matrix(y_test, y_pred)\n",
    "cm_df = pd.DataFrame(cm, index=['Actual 0', 'Actual 1'], columns=['Pred 0', 'Pred 1'])\n",
    "print(\"\\nConfusion Matrix:\\n\", cm_df)\n",
    "\n",
    "cv_results = pd.DataFrame(grid_search.cv_results_)[[\n",
    "    'params', 'mean_test_score', 'std_test_score'\n",
    "]].sort_values(by='mean_test_score', ascending=False)\n",
    "\n",
    "print(\"\\nCross-validation results:\\n\", cv_results.head())"
   ]
  },
  {
   "cell_type": "code",
   "execution_count": 100,
   "id": "e76da0c3",
   "metadata": {},
   "outputs": [
    {
     "name": "stdout",
     "output_type": "stream",
     "text": [
      "Fitting 5 folds for each of 256 candidates, totalling 1280 fits\n"
     ]
    },
    {
     "name": "stderr",
     "output_type": "stream",
     "text": [
      "c:\\Users\\krish\\Desktop\\Churn Analysis\\venv\\lib\\site-packages\\xgboost\\training.py:183: UserWarning: [18:23:04] WARNING: C:\\actions-runner\\_work\\xgboost\\xgboost\\src\\learner.cc:738: \n",
      "Parameters: { \"use_label_encoder\" } are not used.\n",
      "\n",
      "  bst.update(dtrain, iteration=i, fobj=obj)\n"
     ]
    },
    {
     "name": "stdout",
     "output_type": "stream",
     "text": [
      "Best Parameters: {'colsample_bytree': 0.8, 'gamma': 0, 'learning_rate': 0.05, 'max_depth': 4, 'n_estimators': 500, 'reg_alpha': 0.5, 'reg_lambda': 1, 'subsample': 1.0}\n",
      "\n",
      "Classification Metrics:\n",
      "    Accuracy  Precision    Recall  F1 Score\n",
      "0     0.803   0.511384  0.717445  0.597137\n",
      "\n",
      "Confusion Matrix:\n",
      "           Pred 0  Pred 1\n",
      "Actual 0    1314     279\n",
      "Actual 1     115     292\n"
     ]
    }
   ],
   "source": [
    "import pandas as pd\n",
    "from xgboost import XGBClassifier\n",
    "from sklearn.model_selection import GridSearchCV, train_test_split, StratifiedKFold\n",
    "from sklearn.metrics import accuracy_score, precision_score, recall_score, f1_score, confusion_matrix\n",
    "\n",
    "\n",
    "scale_pos_weight = (y_train.value_counts()[0] / y_train.value_counts()[1])\n",
    "\n",
    "xgb = XGBClassifier(\n",
    "    objective=\"binary:logistic\",\n",
    "    eval_metric=\"auc\",   # optimize for class separation\n",
    "    use_label_encoder=False,\n",
    "    random_state=42,\n",
    "    scale_pos_weight=scale_pos_weight,\n",
    "    tree_method=\"hist\"\n",
    ")\n",
    "\n",
    "param_grid = {\n",
    "    'n_estimators': [300, 500],\n",
    "    'max_depth': [4, 6],\n",
    "    'learning_rate': [0.05, 0.1],\n",
    "    'subsample': [0.8, 1.0],\n",
    "    'colsample_bytree': [0.8, 1.0],\n",
    "    'gamma': [0, 1],             # min loss reduction (regularization)\n",
    "    'reg_alpha': [0, 0.5],       # L1 regularization\n",
    "    'reg_lambda': [1, 5]         # L2 regularization\n",
    "}\n",
    "\n",
    "cv = StratifiedKFold(n_splits=5, shuffle=True, random_state=42)\n",
    "\n",
    "grid_search = GridSearchCV(\n",
    "    estimator=xgb,\n",
    "    param_grid=param_grid,\n",
    "    cv=cv,\n",
    "    scoring='f1',\n",
    "    n_jobs=-1,\n",
    "    verbose=1\n",
    ")\n",
    "\n",
    "grid_search.fit(X_train, y_train)\n",
    "\n",
    "best_params = grid_search.best_params_\n",
    "print(\"Best Parameters:\", best_params)\n",
    "\n",
    "best_xgb = grid_search.best_estimator_\n",
    "y_pred = best_xgb.predict(X_test)\n",
    "\n",
    "metrics = {\n",
    "    'Accuracy': accuracy_score(y_test, y_pred),\n",
    "    'Precision': precision_score(y_test, y_pred),\n",
    "    'Recall': recall_score(y_test, y_pred),\n",
    "    'F1 Score': f1_score(y_test, y_pred)\n",
    "}\n",
    "\n",
    "metrics_df = pd.DataFrame([metrics])\n",
    "print(\"\\nClassification Metrics:\\n\", metrics_df)\n",
    "\n",
    "cm = confusion_matrix(y_test, y_pred)\n",
    "cm_df = pd.DataFrame(cm, index=['Actual 0', 'Actual 1'], columns=['Pred 0', 'Pred 1'])\n",
    "print(\"\\nConfusion Matrix:\\n\", cm_df)\n"
   ]
  }
 ],
 "metadata": {
  "kernelspec": {
   "display_name": "venv",
   "language": "python",
   "name": "python3"
  },
  "language_info": {
   "codemirror_mode": {
    "name": "ipython",
    "version": 3
   },
   "file_extension": ".py",
   "mimetype": "text/x-python",
   "name": "python",
   "nbconvert_exporter": "python",
   "pygments_lexer": "ipython3",
   "version": "3.10.11"
  }
 },
 "nbformat": 4,
 "nbformat_minor": 5
}
